{
 "cells": [
  {
   "cell_type": "code",
   "execution_count": 1,
   "metadata": {},
   "outputs": [
    {
     "name": "stderr",
     "output_type": "stream",
     "text": [
      "D:\\Anaconda3\\lib\\site-packages\\h5py\\__init__.py:36: FutureWarning: Conversion of the second argument of issubdtype from `float` to `np.floating` is deprecated. In future, it will be treated as `np.float64 == np.dtype(float).type`.\n",
      "  from ._conv import register_converters as _register_converters\n"
     ]
    }
   ],
   "source": [
    "import tensorflow as tf\n",
    "import numpy as np\n",
    "import matplotlib.pyplot as plt"
   ]
  },
  {
   "cell_type": "markdown",
   "metadata": {},
   "source": [
    "# 3-1 non-linear regression"
   ]
  },
  {
   "cell_type": "code",
   "execution_count": 2,
   "metadata": {},
   "outputs": [
    {
     "data": {
      "image/png": "[encoded data removed]",
      "text/plain": [
       "<matplotlib.figure.Figure at 0x1eb331ad860>"
      ]
     },
     "metadata": {},
     "output_type": "display_data"
    }
   ],
   "source": [
    "x_data = np.linspace(-0.5, 0.5, 200)[:, np.newaxis]\n",
    "noise = np.random.normal(0, 0.02, x_data.shape)\n",
    "y_data = np.square(x_data) + noise\n",
    "\n",
    "#define two placeholder\n",
    "x = tf.placeholder(tf.float32,[None, 1])\n",
    "y = tf.placeholder(tf.float32,[None, 1])\n",
    "\n",
    "#define nn\n",
    "Weight_L1 = tf.Variable(tf.random_normal([1,10]))\n",
    "Biases_L1 = tf.Variable(tf.zeros([1,10]))\n",
    "Wx_plus_b_L1 = tf.matmul(x, Weight_L1) + Biases_L1\n",
    "L1 = tf.nn.tanh(Wx_plus_b_L1)\n",
    "\n",
    "#define output layer\n",
    "Weight_L2 = tf.Variable(tf.random_normal([10,1]))\n",
    "Biases_L2 = tf.Variable(tf.random_normal([1,1]))\n",
    "Wx_plux_b_L2 = tf.matmul(L1, Weight_L2) + Biases_L2\n",
    "prediction = tf.nn.tanh(Wx_plux_b_L2)\n",
    "\n",
    "#define loss and opt\n",
    "loss = tf.reduce_mean(tf.square(y - prediction))\n",
    "train_step = tf.train.GradientDescentOptimizer(0.1).minimize(loss)\n",
    "\n",
    "with tf.Session() as sess:\n",
    "    #init varible\n",
    "    sess.run(tf.global_variables_initializer())\n",
    "    for _ in range(2001):\n",
    "        sess.run(train_step, feed_dict={x:x_data,y:y_data})\n",
    "        \n",
    "    prediction_value = sess.run(prediction,feed_dict={x:x_data})\n",
    "    \n",
    "    #plot\n",
    "    plt.figure()\n",
    "    plt.scatter(x_data,y_data)\n",
    "    plt.plot(x_data,prediction_value,'r-',lw=5)\n",
    "    plt.show()"
   ]
  },
  {
   "cell_type": "markdown",
   "metadata": {},
   "source": [
    "# 3-2 Minst data classifer"
   ]
  },
  {
   "cell_type": "code",
   "execution_count": 3,
   "metadata": {},
   "outputs": [],
   "source": [
    "import tensorflow as tf\n",
    "from tensorflow.examples.tutorials.mnist import input_data"
   ]
  },
  {
   "cell_type": "code",
   "execution_count": 40,
   "metadata": {},
   "outputs": [
    {
     "name": "stdout",
     "output_type": "stream",
     "text": [
      "Extracting MNIST_data\\train-images-idx3-ubyte.gz\n",
      "Extracting MNIST_data\\train-labels-idx1-ubyte.gz\n",
      "Extracting MNIST_data\\t10k-images-idx3-ubyte.gz\n",
      "Extracting MNIST_data\\t10k-labels-idx1-ubyte.gz\n",
      "Iter0: Testing Accuracy 0.8293\n",
      "Iter1: Testing Accuracy 0.8972\n",
      "Iter2: Testing Accuracy 0.9059\n",
      "Iter3: Testing Accuracy 0.9073\n",
      "Iter4: Testing Accuracy 0.9101\n",
      "Iter5: Testing Accuracy 0.912\n",
      "Iter6: Testing Accuracy 0.9142\n",
      "Iter7: Testing Accuracy 0.9167\n",
      "Iter8: Testing Accuracy 0.9174\n",
      "Iter9: Testing Accuracy 0.918\n",
      "Iter10: Testing Accuracy 0.9186\n",
      "Iter11: Testing Accuracy 0.9203\n",
      "Iter12: Testing Accuracy 0.9204\n",
      "Iter13: Testing Accuracy 0.9193\n",
      "Iter14: Testing Accuracy 0.9215\n",
      "Iter15: Testing Accuracy 0.9203\n",
      "Iter16: Testing Accuracy 0.9224\n",
      "Iter17: Testing Accuracy 0.9226\n",
      "Iter18: Testing Accuracy 0.9223\n",
      "Iter19: Testing Accuracy 0.9238\n",
      "Iter20: Testing Accuracy 0.9217\n"
     ]
    }
   ],
   "source": [
    "mnist = input_data.read_data_sets('MNIST_data',one_hot=True)\n",
    "\n",
    "batch_size = 80\n",
    "n_batch = mnist.train.num_examples // batch_size\n",
    "\n",
    "x = tf.placeholder(tf.float32, [None,784])\n",
    "y = tf.placeholder(tf.float32, [None, 10])\n",
    "W = tf.Variable(tf.zeros([784, 10]))\n",
    "b = tf.Variable(tf.zeros([10]))\n",
    "prediction = tf.nn.softmax(tf.matmul(x, W) + b)\n",
    "\n",
    "#loss = tf.reduce_mean(tf.square(y-prediction))\n",
    "loss = tf.reduce_mean(tf.nn.softmax_cross_entropy_with_logits(labels=y, logits=prediction))\n",
    "train_step = tf.train.GradientDescentOptimizer(0.2).minimize(loss)\n",
    "\n",
    "correct_prediction = tf.equal(tf.arg_max(y,1), tf.arg_max(prediction,1))\n",
    "\n",
    "accuracy = tf.reduce_mean(tf.cast(correct_prediction, tf.float32))\n",
    "with tf.Session() as sess:\n",
    "    sess.run(tf.global_variables_initializer())\n",
    "    for epoch in range(21):\n",
    "        for batch in range(n_batch):\n",
    "            batch_xs,batch_ys = mnist.train.next_batch(batch_size)\n",
    "            sess.run(train_step, feed_dict={x:batch_xs,y:batch_ys})\n",
    "        acc =sess.run(accuracy, feed_dict={x:mnist.test.images, y:mnist.test.labels})\n",
    "        print('Iter' + str(epoch) + \": Testing Accuracy \" + str(acc))\n"
   ]
  },
  {
   "cell_type": "code",
   "execution_count": 44,
   "metadata": {},
   "outputs": [
    {
     "name": "stdout",
     "output_type": "stream",
     "text": [
      "Extracting MNIST_data\\train-images-idx3-ubyte.gz\n",
      "Extracting MNIST_data\\train-labels-idx1-ubyte.gz\n",
      "Extracting MNIST_data\\t10k-images-idx3-ubyte.gz\n",
      "Extracting MNIST_data\\t10k-labels-idx1-ubyte.gz\n",
      "Iter0: Testing Accuracy 0.101\n",
      "Iter1: Testing Accuracy 0.1135\n",
      "Iter2: Testing Accuracy 0.1135\n",
      "Iter3: Testing Accuracy 0.1135\n",
      "Iter4: Testing Accuracy 0.1135\n",
      "Iter5: Testing Accuracy 0.1391\n",
      "Iter6: Testing Accuracy 0.1889\n",
      "Iter7: Testing Accuracy 0.2136\n",
      "Iter8: Testing Accuracy 0.2273\n",
      "Iter9: Testing Accuracy 0.2394\n",
      "Iter10: Testing Accuracy 0.2728\n",
      "Iter11: Testing Accuracy 0.3258\n",
      "Iter12: Testing Accuracy 0.3535\n",
      "Iter13: Testing Accuracy 0.3828\n",
      "Iter14: Testing Accuracy 0.3811\n",
      "Iter15: Testing Accuracy 0.3835\n",
      "Iter16: Testing Accuracy 0.4101\n",
      "Iter17: Testing Accuracy 0.4036\n",
      "Iter18: Testing Accuracy 0.4176\n",
      "Iter19: Testing Accuracy 0.4389\n",
      "Iter20: Testing Accuracy 0.4471\n",
      "Iter21: Testing Accuracy 0.4641\n",
      "Iter22: Testing Accuracy 0.4807\n",
      "Iter23: Testing Accuracy 0.4986\n",
      "Iter24: Testing Accuracy 0.5039\n",
      "Iter25: Testing Accuracy 0.5122\n",
      "Iter26: Testing Accuracy 0.5198\n",
      "Iter27: Testing Accuracy 0.5244\n",
      "Iter28: Testing Accuracy 0.5279\n",
      "Iter29: Testing Accuracy 0.5299\n",
      "Iter30: Testing Accuracy 0.5329\n",
      "Iter31: Testing Accuracy 0.5347\n",
      "Iter32: Testing Accuracy 0.5364\n",
      "Iter33: Testing Accuracy 0.5435\n",
      "Iter34: Testing Accuracy 0.5456\n",
      "Iter35: Testing Accuracy 0.5457\n",
      "Iter36: Testing Accuracy 0.5519\n",
      "Iter37: Testing Accuracy 0.5558\n",
      "Iter38: Testing Accuracy 0.5524\n",
      "Iter39: Testing Accuracy 0.5607\n",
      "Iter40: Testing Accuracy 0.5562\n",
      "Iter41: Testing Accuracy 0.5646\n",
      "Iter42: Testing Accuracy 0.5697\n",
      "Iter43: Testing Accuracy 0.5717\n",
      "Iter44: Testing Accuracy 0.5714\n",
      "Iter45: Testing Accuracy 0.5712\n",
      "Iter46: Testing Accuracy 0.5732\n",
      "Iter47: Testing Accuracy 0.5758\n",
      "Iter48: Testing Accuracy 0.5789\n",
      "Iter49: Testing Accuracy 0.579\n"
     ]
    }
   ],
   "source": [
    "mnist = input_data.read_data_sets('MNIST_data',one_hot=True)\n",
    "\n",
    "batch_size = 100\n",
    "n_batch = mnist.train.num_examples // batch_size\n",
    "\n",
    "x = tf.placeholder(tf.float32, [None,784])\n",
    "y = tf.placeholder(tf.float32, [None, 10])\n",
    "W_1 = tf.Variable(tf.zeros([784, 500]))\n",
    "b_1 = tf.Variable(tf.zeros([500]))\n",
    "prediction_1 = tf.nn.sigmoid(tf.matmul(x, W_1) + b_1)\n",
    "\n",
    "W_2 = tf.Variable(tf.zeros([500,10]))\n",
    "b_2 = tf.Variable(tf.zeros([10]))\n",
    "prediction = tf.nn.softmax(tf.matmul(prediction_1, W_2) + b_2)\n",
    "\n",
    "loss = tf.reduce_mean(tf.nn.softmax_cross_entropy_with_logits(labels=y,logits=prediction))\n",
    "train_step = tf.train.GradientDescentOptimizer(0.2).minimize(loss)\n",
    "\n",
    "correct_prediction = tf.equal(tf.arg_max(y,1), tf.arg_max(prediction,1))\n",
    "\n",
    "accuracy = tf.reduce_mean(tf.cast(correct_prediction, tf.float32))\n",
    "with tf.Session() as sess:\n",
    "    sess.run(tf.global_variables_initializer())\n",
    "    for epoch in range(50):\n",
    "        for batch in range(n_batch):\n",
    "            batch_xs,batch_ys = mnist.train.next_batch(batch_size)\n",
    "            sess.run(train_step, feed_dict={x:batch_xs,y:batch_ys})\n",
    "        acc =sess.run(accuracy, feed_dict={x:mnist.test.images, y:mnist.test.labels})\n",
    "        print('Iter' + str(epoch) + \": Testing Accuracy \" + str(acc))\n"
   ]
  },
  {
   "cell_type": "code",
   "execution_count": 29,
   "metadata": {},
   "outputs": [
    {
     "data": {
      "text/plain": [
       "array([[0., 0., 0., ..., 0., 0., 0.],\n",
       "       [0., 0., 0., ..., 0., 0., 0.],\n",
       "       [0., 0., 0., ..., 0., 0., 0.],\n",
       "       ...,\n",
       "       [0., 0., 0., ..., 0., 0., 0.],\n",
       "       [0., 0., 0., ..., 0., 0., 0.],\n",
       "       [0., 0., 0., ..., 0., 0., 0.]], dtype=float32)"
      ]
     },
     "execution_count": 29,
     "metadata": {},
     "output_type": "execute_result"
    }
   ],
   "source": [
    "mnist.train.images"
   ]
  },
  {
   "cell_type": "code",
   "execution_count": null,
   "metadata": {},
   "outputs": [],
   "source": []
  }
 ],
 "metadata": {
  "kernelspec": {
   "display_name": "Python 3",
   "language": "python",
   "name": "python3"
  },
  "language_info": {
   "codemirror_mode": {
    "name": "ipython",
    "version": 3
   },
   "file_extension": ".py",
   "mimetype": "text/x-python",
   "name": "python",
   "nbconvert_exporter": "python",
   "pygments_lexer": "ipython3",
   "version": "3.6.4"
  }
 },
 "nbformat": 4,
 "nbformat_minor": 2
}
