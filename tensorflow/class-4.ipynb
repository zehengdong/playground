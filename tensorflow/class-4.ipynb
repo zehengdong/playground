{
 "cells": [
  {
   "cell_type": "markdown",
   "metadata": {},
   "source": [
    "# 4-1 cross-entropy"
   ]
  },
  {
   "cell_type": "code",
   "execution_count": 3,
   "metadata": {},
   "outputs": [],
   "source": [
    "import tensorflow as tf\n",
    "import numpy as np\n",
    "import matplotlib.pyplot as plt\n",
    "\n",
    "import tensorflow as tf\n",
    "from tensorflow.examples.tutorials.mnist import input_data"
   ]
  },
  {
   "cell_type": "code",
   "execution_count": 9,
   "metadata": {},
   "outputs": [
    {
     "name": "stdout",
     "output_type": "stream",
     "text": [
      "Extracting MNIST_data\\train-images-idx3-ubyte.gz\n",
      "Extracting MNIST_data\\train-labels-idx1-ubyte.gz\n",
      "Extracting MNIST_data\\t10k-images-idx3-ubyte.gz\n",
      "Extracting MNIST_data\\t10k-labels-idx1-ubyte.gz\n",
      "Iter0: Testing Accuracy 0.8061\n",
      "Iter1: Testing Accuracy 0.8924\n",
      "Iter2: Testing Accuracy 0.9002\n",
      "Iter3: Testing Accuracy 0.9053\n",
      "Iter4: Testing Accuracy 0.9081\n",
      "Iter5: Testing Accuracy 0.9107\n",
      "Iter6: Testing Accuracy 0.9125\n",
      "Iter7: Testing Accuracy 0.9143\n",
      "Iter8: Testing Accuracy 0.9152\n",
      "Iter9: Testing Accuracy 0.9157\n",
      "Iter10: Testing Accuracy 0.9177\n",
      "Iter11: Testing Accuracy 0.9178\n",
      "Iter12: Testing Accuracy 0.9184\n",
      "Iter13: Testing Accuracy 0.9192\n",
      "Iter14: Testing Accuracy 0.9202\n",
      "Iter15: Testing Accuracy 0.9204\n",
      "Iter16: Testing Accuracy 0.9206\n",
      "Iter17: Testing Accuracy 0.921\n",
      "Iter18: Testing Accuracy 0.9218\n",
      "Iter19: Testing Accuracy 0.9219\n",
      "Iter20: Testing Accuracy 0.9215\n"
     ]
    }
   ],
   "source": [
    "mnist = input_data.read_data_sets('MNIST_data',one_hot=True)\n",
    "\n",
    "batch_size = 100\n",
    "n_batch = mnist.train.num_examples // batch_size\n",
    "\n",
    "x = tf.placeholder(tf.float32, [None,784])\n",
    "y = tf.placeholder(tf.float32, [None, 10])\n",
    "\n",
    "W = tf.Variable(tf.truncated_normal([784,10],stddev=0.1))\n",
    "b = tf.Variable(tf.zeros([10]) + 0.1)\n",
    "#W = tf.Variable(tf.zeros([784, 10]))\n",
    "#b = tf.Variable(tf.zeros([10]))\n",
    "prediction = tf.nn.softmax(tf.matmul(x, W) + b)\n",
    "\n",
    "#loss = tf.reduce_mean(tf.square(y-prediction))\n",
    "loss = tf.reduce_mean(tf.nn.softmax_cross_entropy_with_logits(labels=y, logits=prediction))\n",
    "train_step = tf.train.GradientDescentOptimizer(0.2).minimize(loss)\n",
    "\n",
    "correct_prediction = tf.equal(tf.arg_max(y,1), tf.arg_max(prediction,1))\n",
    "\n",
    "accuracy = tf.reduce_mean(tf.cast(correct_prediction, tf.float32))\n",
    "with tf.Session() as sess:\n",
    "    sess.run(tf.global_variables_initializer())\n",
    "    for epoch in range(21):\n",
    "        for batch in range(n_batch):\n",
    "            batch_xs,batch_ys = mnist.train.next_batch(batch_size)\n",
    "            sess.run(train_step, feed_dict={x:batch_xs,y:batch_ys})\n",
    "        acc =sess.run(accuracy, feed_dict={x:mnist.test.images, y:mnist.test.labels})\n",
    "        print('Iter' + str(epoch) + \": Testing Accuracy \" + str(acc))\n"
   ]
  },
  {
   "cell_type": "markdown",
   "metadata": {},
   "source": [
    "# 4-2 drop-out"
   ]
  },
  {
   "cell_type": "code",
   "execution_count": 15,
   "metadata": {},
   "outputs": [
    {
     "name": "stdout",
     "output_type": "stream",
     "text": [
      "Extracting MNIST_data\\train-images-idx3-ubyte.gz\n",
      "Extracting MNIST_data\\train-labels-idx1-ubyte.gz\n",
      "Extracting MNIST_data\\t10k-images-idx3-ubyte.gz\n",
      "Extracting MNIST_data\\t10k-labels-idx1-ubyte.gz\n",
      "Iter0: Testing Accuracy 0.9493\n",
      "Iter1: Testing Accuracy 0.9569\n",
      "Iter2: Testing Accuracy 0.9639\n",
      "Iter3: Testing Accuracy 0.9683\n",
      "Iter4: Testing Accuracy 0.9702\n",
      "Iter5: Testing Accuracy 0.9687\n",
      "Iter6: Testing Accuracy 0.9703\n",
      "Iter7: Testing Accuracy 0.971\n",
      "Iter8: Testing Accuracy 0.9725\n",
      "Iter9: Testing Accuracy 0.9718\n",
      "Iter10: Testing Accuracy 0.9722\n",
      "Iter11: Testing Accuracy 0.9729\n",
      "Iter12: Testing Accuracy 0.973\n",
      "Iter13: Testing Accuracy 0.9725\n",
      "Iter14: Testing Accuracy 0.9728\n",
      "Iter15: Testing Accuracy 0.9729\n",
      "Iter16: Testing Accuracy 0.973\n",
      "Iter17: Testing Accuracy 0.9727\n",
      "Iter18: Testing Accuracy 0.9734\n",
      "Iter19: Testing Accuracy 0.9734\n",
      "Iter20: Testing Accuracy 0.973\n"
     ]
    }
   ],
   "source": [
    "mnist = input_data.read_data_sets('MNIST_data',one_hot=True)\n",
    "\n",
    "batch_size = 80\n",
    "n_batch = mnist.train.num_examples // batch_size\n",
    "\n",
    "x = tf.placeholder(tf.float32, [None,784])\n",
    "y = tf.placeholder(tf.float32, [None, 10])\n",
    "keep_prob = tf.placeholder(tf.float32)\n",
    "\n",
    "W1 = tf.Variable(tf.truncated_normal([784, 2000], stddev=0.1))\n",
    "b1 = tf.Variable(tf.zeros([2000])+ 0.1)\n",
    "L1 = tf.nn.tanh(tf.matmul(x,W1) + b1)\n",
    "L1_drop = tf.nn.dropout(L1, keep_prob=keep_prob)\n",
    "\n",
    "W2 = tf.Variable(tf.truncated_normal([2000, 2000], stddev=0.1))\n",
    "b2 = tf.Variable(tf.zeros([2000])+ 0.1)\n",
    "L2 = tf.nn.tanh(tf.matmul(L1_drop,W2) + b2)\n",
    "L2_drop = tf.nn.dropout(L2, keep_prob=keep_prob)\n",
    "\n",
    "W3 = tf.Variable(tf.truncated_normal([2000, 1000], stddev=0.1))\n",
    "b3 = tf.Variable(tf.zeros([1000])+ 0.1)\n",
    "L3 = tf.nn.tanh(tf.matmul(L2_drop,W3) + b3)\n",
    "L3_drop = tf.nn.dropout(L3, keep_prob=keep_prob)\n",
    "\n",
    "W4 = tf.Variable(tf.truncated_normal([1000, 10], stddev=0.1))\n",
    "b4 = tf.Variable(tf.zeros([10])+ 0.1)\n",
    "prediction = tf.nn.softmax(tf.matmul(L3_drop, W4) + b4)\n",
    "\n",
    "#loss = tf.reduce_mean(tf.square(y-prediction))\n",
    "loss = tf.reduce_mean(tf.nn.softmax_cross_entropy_with_logits(labels=y, logits=prediction))\n",
    "train_step = tf.train.GradientDescentOptimizer(0.2).minimize(loss)\n",
    "\n",
    "correct_prediction = tf.equal(tf.arg_max(y,1), tf.arg_max(prediction,1))\n",
    "\n",
    "accuracy = tf.reduce_mean(tf.cast(correct_prediction, tf.float32))\n",
    "with tf.Session() as sess:\n",
    "    sess.run(tf.global_variables_initializer())\n",
    "    for epoch in range(21):\n",
    "        for batch in range(n_batch):\n",
    "            batch_xs,batch_ys = mnist.train.next_batch(batch_size)\n",
    "            sess.run(train_step, feed_dict={x:batch_xs,y:batch_ys, keep_prob:1.0})\n",
    "        acc =sess.run(accuracy, feed_dict={x:mnist.test.images, y:mnist.test.labels, keep_prob:1.0})\n",
    "        print('Iter' + str(epoch) + \": Testing Accuracy \" + str(acc))"
   ]
  },
  {
   "cell_type": "markdown",
   "metadata": {},
   "source": [
    "# 4-3 optimizer"
   ]
  },
  {
   "cell_type": "code",
   "execution_count": null,
   "metadata": {},
   "outputs": [],
   "source": [
    "# tf.train.AdamOptimizer\n",
    "# tf.train.MomentumOptimizer\n",
    "# tf.train.AdadeltaOptimizer\n",
    "# tf.train.RMSPropOptimizer"
   ]
  }
 ],
 "metadata": {
  "kernelspec": {
   "display_name": "Python 3",
   "language": "python",
   "name": "python3"
  },
  "language_info": {
   "codemirror_mode": {
    "name": "ipython",
    "version": 3
   },
   "file_extension": ".py",
   "mimetype": "text/x-python",
   "name": "python",
   "nbconvert_exporter": "python",
   "pygments_lexer": "ipython3",
   "version": "3.6.4"
  }
 },
 "nbformat": 4,
 "nbformat_minor": 2
}
